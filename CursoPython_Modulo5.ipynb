{
  "nbformat": 4,
  "nbformat_minor": 0,
  "metadata": {
    "colab": {
      "provenance": []
    },
    "kernelspec": {
      "name": "python3",
      "display_name": "Python 3"
    },
    "language_info": {
      "name": "python"
    }
  },
  "cells": [
    {
      "cell_type": "markdown",
      "source": [
        "# Numpy in 1D\n",
        "Library for scientific computing. Basis for pandas.\n"
      ],
      "metadata": {
        "id": "pcGOfCFk_EWT"
      }
    },
    {
      "cell_type": "markdown",
      "source": [
        "**How to create a Numpy Array?**\n",
        "\n",
        "Numpy array or ndarray, similar to a list, fixed, todos los elementos del mismo tipo.\n",
        "\n",
        "Cast a list to an array:\n",
        "\n",
        "```\n",
        "  #lista a\n",
        "a = [0, 1, 2, 3, 4]\n",
        "  #array b\n",
        "b = np.array(a)\n",
        "```\n",
        "\n",
        "---"
      ],
      "metadata": {
        "id": "8Om80TUr_h_Z"
      }
    },
    {
      "cell_type": "markdown",
      "source": [
        "**Attributes**\n",
        "\n",
        "* b.size --- number of elements\n",
        "* b.ndim --- numnber of array dimensions OR the rank of the array ¿cuántas dimensiones?\n",
        "* b.shape --- tupla que indica el tamaño de cada una de las dimensiones\n",
        "\n",
        "\n",
        "---"
      ],
      "metadata": {
        "id": "Qbg0GfjXAlmf"
      }
    },
    {
      "cell_type": "markdown",
      "source": [
        "**Indexing and Slicing methods**\n",
        "\n",
        "* reglas básicas de un array\n",
        "* son mutables\n",
        "* como listas y tuplas, se pueden cortar\n",
        "\n",
        "```\n",
        "arrayA = np.array([20, 1, 2, 3, 4])\n",
        "arrayB = arrayA[1:4]\n",
        "  #esto imprime 1, 2, 3\n",
        "\n",
        "  #o podemos cambiar valores\n",
        "arrayA[3:5] = 300, 400\n",
        "  #que sería [20, 1, 2, 300, 400]\n",
        "```\n",
        "\n",
        "---"
      ],
      "metadata": {
        "id": "tOpvxKmkHhJJ"
      }
    },
    {
      "cell_type": "markdown",
      "source": [
        "**Basic Operations**\n",
        "\n",
        "Suma de vectores:\n",
        "```\n",
        "u = [1, 0]\n",
        "v = [1, 0]\n",
        "z = []\n",
        "\n",
        "for n, m in zip(u, v)\n",
        "  z.append(n + m)\n",
        "```\n",
        "\n",
        "\n",
        "O usando numpy se puede hacer en una sola linea, sin ciclos:\n",
        "```\n",
        "u = np.array([1, 0])\n",
        "v = np.array([0, 1])\n",
        "\n",
        "z = u + v\n",
        "#o z = u - v\n",
        "```\n",
        "\n",
        "\n",
        "Multiplicación escalar es un vector por un número.\n",
        "```\n",
        "y = np.array([1, 2])\n",
        "\n",
        "z = 2*y\n",
        "#[2, 4]\n",
        "```\n",
        "\n",
        "\n",
        "Multiplicación de dos vectores\n",
        "```\n",
        "u = np.array([1, 2])\n",
        "v = np.array([3, 2])\n",
        "\n",
        "z = u*v\n",
        "#[3, 4]\n",
        "```\n",
        "\n",
        "\n",
        "Dot product\n",
        "```\n",
        "u = np.array([1, 2])\n",
        "v = np.array([3, 1])\n",
        "\n",
        "result = np.dot(u, v)\n",
        "#5\n",
        "```\n",
        "\n",
        "\n",
        "Broadcasting\n",
        "```\n",
        "u = np.array([1, 2, 3, -1])\n",
        "z = u+1\n",
        "\n",
        "#[2, 3, 4, 0]\n",
        "```\n",
        "\n",
        "\n",
        "---"
      ],
      "metadata": {
        "id": "0_1Sy4ZhIg0A"
      }
    },
    {
      "cell_type": "markdown",
      "source": [
        "**Universal Functions**\n",
        "\n",
        "* b.mean --- promedio\n",
        "* b.max --- máximo valor\n",
        "* np.pi --- número pi\n",
        "* x = np.array([0, np.pi/2, np.pi]) --- coloca en radianes: [0, pi/2, pi]\n",
        "* y = np.sin(x) --- esto le aplicaría el seno a cada uno de los valores en x, o sea: [0, 1, 1.2e-16]\n",
        "\n",
        "\n",
        "\n",
        "---"
      ],
      "metadata": {
        "id": "WgHCfnWFNXHr"
      }
    },
    {
      "cell_type": "markdown",
      "source": [
        "**For plotting**\n",
        "\n",
        "```\n",
        "np.linespace(-2, 2, num=5)\n",
        "#-2, -1, 0, 1, 2\n",
        "\n",
        "\n",
        "np.linespace(-2, 2, num=9)\n",
        "#-2, -1.5, -1, -0.5, 0, 0.5, 1, 1.5, 2\n",
        "```\n",
        "\n",
        "Y recuerda que con **import matplotlib.pyplot as plt**, podemos usar el comando:\n",
        "\n",
        "%maplotlib inline\n",
        "plt.plt(x, y)\n",
        "\n",
        "\n",
        "\n",
        "---"
      ],
      "metadata": {
        "id": "6_dQn-zkOQuZ"
      }
    },
    {
      "cell_type": "markdown",
      "source": [
        "# Lab - Working with 1D Numpy Arrays\n",
        "\n",
        "*Try it yourself* exercises"
      ],
      "metadata": {
        "id": "Ns7XxNMERMls"
      }
    },
    {
      "cell_type": "code",
      "source": [
        "#Assign the value 20 for the second element in the given array.\n",
        "import numpy as np \n",
        "\n",
        "a = np.array([10, 2, 30, 40,50])\n",
        "\n",
        "a[1] = 20\n",
        "a"
      ],
      "metadata": {
        "colab": {
          "base_uri": "https://localhost:8080/"
        },
        "id": "Zyoo4h2vQrHe",
        "outputId": "78b6da44-75f2-4248-8c9b-c86cd2fc8346"
      },
      "execution_count": null,
      "outputs": [
        {
          "output_type": "execute_result",
          "data": {
            "text/plain": [
              "array([10, 20, 30, 40, 50])"
            ]
          },
          "metadata": {},
          "execution_count": 3
        }
      ]
    },
    {
      "cell_type": "code",
      "source": [
        "#Print the even elements in the given array.\n",
        "arr = np.array([1, 2, 3, 4, 5, 6, 7, 8])\n",
        "\n",
        "arr[1:8:2]"
      ],
      "metadata": {
        "colab": {
          "base_uri": "https://localhost:8080/"
        },
        "id": "B8UGnQRqQa3u",
        "outputId": "a0183a45-8847-4ee8-aa2e-065418352ccf"
      },
      "execution_count": null,
      "outputs": [
        {
          "output_type": "execute_result",
          "data": {
            "text/plain": [
              "array([2, 4, 6, 8])"
            ]
          },
          "metadata": {},
          "execution_count": 4
        }
      ]
    },
    {
      "cell_type": "code",
      "source": [
        "#Find the size ,dimension and shape for the given array b\n",
        "b = np.array([10, 20, 30, 40, 50, 60, 70])\n",
        "\n",
        "b.size\n",
        "b.ndim\n",
        "b.shape"
      ],
      "metadata": {
        "colab": {
          "base_uri": "https://localhost:8080/"
        },
        "id": "EoVjDGldR1XD",
        "outputId": "ee1bac88-9500-4808-bf18-52b79092d02a"
      },
      "execution_count": null,
      "outputs": [
        {
          "output_type": "execute_result",
          "data": {
            "text/plain": [
              "(7,)"
            ]
          },
          "metadata": {},
          "execution_count": 5
        }
      ]
    },
    {
      "cell_type": "code",
      "source": [
        "#Find the sum of maximum and minimum value in the given numpy array\n",
        "c = np.array([-10, 201, 43, 94, 502])\n",
        "\n",
        "c.max() + c.min()"
      ],
      "metadata": {
        "colab": {
          "base_uri": "https://localhost:8080/"
        },
        "id": "2-6_d5vdSLqL",
        "outputId": "52929edf-3242-4e0d-cc72-484e5b7373cc"
      },
      "execution_count": null,
      "outputs": [
        {
          "output_type": "execute_result",
          "data": {
            "text/plain": [
              "492"
            ]
          },
          "metadata": {},
          "execution_count": 6
        }
      ]
    },
    {
      "cell_type": "code",
      "source": [
        "#Perform addition operation on the given numpy array arr1 and arr2:\n",
        "arr1 = np.array([10, 11, 12, 13, 14, 15])\n",
        "arr2 = np.array([20, 21, 22, 23, 24, 25])\n",
        "\n",
        "np.add(arr1, arr2)\n",
        "\n",
        "\n",
        "#Perform subtraction operation on the given numpy array arr1 and arr2:\n",
        "arr3 = np.array([10, 20, 30, 40, 50, 60])\n",
        "arr4 = np.array([20, 21, 22, 23, 24, 25])\n",
        "\n",
        "np.subtract(arr3, arr4)"
      ],
      "metadata": {
        "colab": {
          "base_uri": "https://localhost:8080/"
        },
        "id": "400dC0_6SYPG",
        "outputId": "78339f97-9fd2-440b-e132-497b59ffe48e"
      },
      "execution_count": null,
      "outputs": [
        {
          "output_type": "execute_result",
          "data": {
            "text/plain": [
              "array([-10,  -1,   8,  17,  26,  35])"
            ]
          },
          "metadata": {},
          "execution_count": 8
        }
      ]
    },
    {
      "cell_type": "code",
      "source": [
        "#Perform multiply operation on the given numpy array arr1 and arr2:\n",
        "arr1 = np.array([10, 20, 30, 40, 50, 60])\n",
        "arr2 = np.array([2, 1, 2, 3, 4, 5])\n",
        "\n",
        "arr3 = arr1 * arr2\n",
        "#o también np.multiply(arr1, arr2)\n",
        "#o para divisiones: np.divide(arr1, arr2)\n",
        "arr3"
      ],
      "metadata": {
        "colab": {
          "base_uri": "https://localhost:8080/"
        },
        "id": "-8-vjtkFTNsg",
        "outputId": "89976f7c-f86c-4bc0-c094-2803a7c1874a"
      },
      "execution_count": null,
      "outputs": [
        {
          "output_type": "execute_result",
          "data": {
            "text/plain": [
              "array([ 20,  20,  60, 120, 200, 300])"
            ]
          },
          "metadata": {},
          "execution_count": 11
        }
      ]
    },
    {
      "cell_type": "code",
      "source": [
        "#Make a numpy array within [5, 4] and 6 elements\n",
        "np.linespace(5, 4, num=6)"
      ],
      "metadata": {
        "id": "yIlXdbpOTqqY"
      },
      "execution_count": null,
      "outputs": []
    },
    {
      "cell_type": "markdown",
      "source": [
        "---\n",
        "\n",
        "# Numpy in 2D\n",
        "\n",
        "a = [[11, 12, 13], [21, 22, 23], [31, 32, 33]]\n",
        "\n",
        "A = np.array(a)\n",
        "\n",
        "```\n",
        "   11  12  13\n",
        "A: 21  22  23\n",
        "   31  32  33\n",
        "```\n",
        "\n",
        "* A.ndim -> sería de 2 dimensiones\n",
        "* A.shape -> sería (3, 3)\n",
        "  * 3 filas y 3 columnas\n",
        "* A.size -> 9\n",
        "\n",
        "\n",
        "\n",
        "---"
      ],
      "metadata": {
        "id": "P9kQdQdrUu9z"
      }
    },
    {
      "cell_type": "markdown",
      "source": [
        "\n",
        "* Se pueden sumar matrices como una suma\n",
        "* Se puede multiplicar una matriz por un valor escalar, como un vector\n",
        "* Se pueden multiplicar las matrices de manera natural (cuadro por cuadro --- dot product)\n",
        "  * A x B\n",
        "* O se puede hace la multiplicación EXTRAVAGANTE\n",
        "  * np.dot(A,B)\n",
        "\n"
      ],
      "metadata": {
        "id": "o-wMeNtgXS3x"
      }
    },
    {
      "cell_type": "markdown",
      "source": [
        "# Lab - Working with 2D Numpy Arrays\n",
        "\n",
        "*Quiz on 2D Numpy Array* exercises"
      ],
      "metadata": {
        "id": "kkkhfkCkYSu-"
      }
    },
    {
      "cell_type": "code",
      "source": [
        "#Consider the following list a, convert it to Numpy Array.\n",
        "import numpy as np \n",
        "a = [[1, 2, 3, 4], [5, 6, 7, 8], [9, 10, 11, 12]]\n",
        "\n",
        "b = np.array(a)\n",
        "b"
      ],
      "metadata": {
        "id": "Dj3_dlxCYVa3",
        "colab": {
          "base_uri": "https://localhost:8080/"
        },
        "outputId": "a5cc63be-64df-4151-acd0-ca9f8e41f988"
      },
      "execution_count": 2,
      "outputs": [
        {
          "output_type": "execute_result",
          "data": {
            "text/plain": [
              "array([[ 1,  2,  3,  4],\n",
              "       [ 5,  6,  7,  8],\n",
              "       [ 9, 10, 11, 12]])"
            ]
          },
          "metadata": {},
          "execution_count": 2
        }
      ]
    },
    {
      "cell_type": "code",
      "source": [
        "#Calculate the numpy array size.\n",
        "b.size"
      ],
      "metadata": {
        "colab": {
          "base_uri": "https://localhost:8080/"
        },
        "id": "gT2LD5MCSssz",
        "outputId": "f5433d0f-bf9c-4feb-9e73-0e5ce2ca106b"
      },
      "execution_count": 4,
      "outputs": [
        {
          "output_type": "execute_result",
          "data": {
            "text/plain": [
              "12"
            ]
          },
          "metadata": {},
          "execution_count": 4
        }
      ]
    },
    {
      "cell_type": "code",
      "source": [
        "#Access the element on the first row and first and second columns.\n",
        "b[0][0:2]"
      ],
      "metadata": {
        "colab": {
          "base_uri": "https://localhost:8080/"
        },
        "id": "IhGNyQxLS3p1",
        "outputId": "ae27de36-82ca-44d8-d911-89a34523ec6e"
      },
      "execution_count": 5,
      "outputs": [
        {
          "output_type": "execute_result",
          "data": {
            "text/plain": [
              "array([1, 2])"
            ]
          },
          "metadata": {},
          "execution_count": 5
        }
      ]
    },
    {
      "cell_type": "code",
      "source": [
        "#Perform matrix multiplication with the numpy arrays A and B.\n",
        "A = b\n",
        "B = np.array([[0, 1], [1, 0], [1, 1], [-1, 0]])\n",
        "\n",
        "np.dot(A,B)"
      ],
      "metadata": {
        "colab": {
          "base_uri": "https://localhost:8080/"
        },
        "id": "byqo0DSXS_8z",
        "outputId": "fd6bc6b7-b286-40e2-b7af-55eae9bf59ea"
      },
      "execution_count": 6,
      "outputs": [
        {
          "output_type": "execute_result",
          "data": {
            "text/plain": [
              "array([[ 1,  4],\n",
              "       [ 5, 12],\n",
              "       [ 9, 20]])"
            ]
          },
          "metadata": {},
          "execution_count": 6
        }
      ]
    },
    {
      "cell_type": "markdown",
      "source": [
        "---\n",
        "\n",
        "# Simple APIs\n",
        "# Labs APIs\n",
        "Aplication Program Interfaces"
      ],
      "metadata": {
        "id": "NlHMrpTyT18D"
      }
    },
    {
      "cell_type": "markdown",
      "source": [
        "* Like a Big Function\n",
        "* REST = REpresentational State Transfer\n",
        "* REST for web services\n",
        "  * HTTP Request with a JSON\n",
        "\n"
      ],
      "metadata": {
        "id": "tiCi7KLhUAJq"
      }
    },
    {
      "cell_type": "markdown",
      "source": [
        "nba_api by Swar Patel\n",
        "\n",
        "\n",
        "```\n",
        "!pip install nba_api\n",
        "from nba_api.stats.static import teams\n",
        "nba_teams = teams.get_teams()\n",
        "nba_teams[:5]\n",
        "\n",
        "#esto devuelve info de los equipos de la nba en forma de un diccionario\n",
        "```\n",
        "\n",
        "Cada vez que usamos nba_api estamos haciendo peticiones a la página."
      ],
      "metadata": {
        "id": "G9aczpmrVbTf"
      }
    },
    {
      "cell_type": "markdown",
      "source": [
        "* Para usar un API siempre necesitamos el endpoint (url) y las llaves de acceso que nos identifican como user (key)"
      ],
      "metadata": {
        "id": "zAw40X9PWkZy"
      }
    },
    {
      "cell_type": "code",
      "source": [
        "import requests\n",
        "\n",
        "import os \n",
        "from PIL import Image\n",
        "from IPython.display import IFrame\n",
        "\n",
        "url='https://cf-courses-data.s3.us.cloud-object-storage.appdomain.cloud/IBMDeveloperSkillsNetwork-PY0101EN-SkillsNetwork/labs/Module%205/data/Example1.txt'\n",
        "path=os.path.join(os.getcwd(),'example1.txt')\n",
        "r=requests.get(url)\n",
        "with open(path,'wb') as f:\n",
        "    f.write(r.content)"
      ],
      "metadata": {
        "id": "VwOpB265atUd"
      },
      "execution_count": 9,
      "outputs": []
    },
    {
      "cell_type": "code",
      "source": [
        "#Exercise 1\n",
        "#In this Exercise, generate photos of the random 5 users.\n",
        "!pip install randomuser\n",
        "from randomuser import RandomUser\n",
        "import pandas as pd\n",
        "\n",
        "r = RandomUser()\n",
        "\n",
        "some_list = r.generate_users(5)\n",
        "\n",
        "for user in some_list:\n",
        "    print (user.get_picture())"
      ],
      "metadata": {
        "colab": {
          "base_uri": "https://localhost:8080/"
        },
        "id": "vLsmlCOwbYBQ",
        "outputId": "555afe49-f130-459d-b1e0-bc3d66f51d48"
      },
      "execution_count": 10,
      "outputs": [
        {
          "output_type": "stream",
          "name": "stdout",
          "text": [
            "Looking in indexes: https://pypi.org/simple, https://us-python.pkg.dev/colab-wheels/public/simple/\n",
            "Collecting randomuser\n",
            "  Downloading randomuser-1.6.tar.gz (5.0 kB)\n",
            "Building wheels for collected packages: randomuser\n",
            "  Building wheel for randomuser (setup.py) ... \u001b[?25l\u001b[?25hdone\n",
            "  Created wheel for randomuser: filename=randomuser-1.6-py3-none-any.whl size=5084 sha256=a69ad27f5b66e0e7da23daf686991e41f2bf79f64df6a516dcffe1b7fd1bd4e8\n",
            "  Stored in directory: /root/.cache/pip/wheels/21/10/7b/c13bc3e24a3c1000a34554802ad8aa0ff27df56366998a0473\n",
            "Successfully built randomuser\n",
            "Installing collected packages: randomuser\n",
            "Successfully installed randomuser-1.6\n",
            "https://randomuser.me/api/portraits/women/0.jpg\n",
            "https://randomuser.me/api/portraits/women/89.jpg\n",
            "https://randomuser.me/api/portraits/men/51.jpg\n",
            "https://randomuser.me/api/portraits/women/28.jpg\n",
            "https://randomuser.me/api/portraits/women/13.jpg\n"
          ]
        }
      ]
    },
    {
      "cell_type": "code",
      "source": [
        "#Exercise 2\n",
        "#In this Exercise, find out how many calories are contained in a banana.\n",
        "\n",
        "import requests\n",
        "import json\n",
        "\n",
        "#We will obtain the fruitvice API data using requests.get(\"url\")\n",
        "data = requests.get(\"https://www.fruityvice.com/api/fruit/all\")\n",
        "\n",
        "#We will retrieve results using json.loads() function\n",
        "results = json.loads(data.text)\n",
        "\n",
        "#We will convert our json data into pandas data frame.\n",
        "pd.DataFrame(results)\n",
        "\n",
        "#The result is in a nested json format. The 'nutrition' column contains multiple subcolumns, so the data needs to be 'flattened' or normalized.\n",
        "df2 = pd.json_normalize(results)\n",
        "\n",
        "cal_banana = df2.loc[df2[\"name\"] == 'Banana']\n",
        "cal_banana.iloc[0]['nutritions.calories']"
      ],
      "metadata": {
        "colab": {
          "base_uri": "https://localhost:8080/"
        },
        "id": "6IGc5RoucGEp",
        "outputId": "be8255ad-ceb2-47a1-d891-a47a75da1ba0"
      },
      "execution_count": 11,
      "outputs": [
        {
          "output_type": "execute_result",
          "data": {
            "text/plain": [
              "96"
            ]
          },
          "metadata": {},
          "execution_count": 11
        }
      ]
    }
  ]
}