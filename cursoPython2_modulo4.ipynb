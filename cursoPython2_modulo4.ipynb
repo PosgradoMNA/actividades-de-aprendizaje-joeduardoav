{
  "nbformat": 4,
  "nbformat_minor": 0,
  "metadata": {
    "colab": {
      "provenance": []
    },
    "kernelspec": {
      "name": "python3",
      "display_name": "Python 3"
    },
    "language_info": {
      "name": "python"
    }
  },
  "cells": [
    {
      "cell_type": "markdown",
      "source": [
        "# **Module 4 - Model Development**\n",
        "\n",
        "Ciencia y Analítica de Datos\n",
        "\n",
        "José Eduardo Arteaga Valdés\n",
        "\n",
        "A01273800"
      ],
      "metadata": {
        "id": "XcPT0Vqbu4m9"
      }
    },
    {
      "cell_type": "markdown",
      "source": [
        "Un modelo es una ecuación matemática que nos ayuda a preddciones. En dependencia de ciertas variables, podemos determinar un target.\n"
      ],
      "metadata": {
        "id": "5n5CAS8gvlNT"
      }
    },
    {
      "cell_type": "markdown",
      "source": [
        "**Regresión lineal**\n",
        "* Regresión lineal - una sola variable que influye en la predicción\n",
        "* Regresión lineal - múltiples variables que influyen en la predicción\n",
        "* Gráficamente, puede denotarse como una recta u otro tipo de movimiento\n",
        "\n",
        "```\n",
        "from sklearn.linear_model import LinearRegression\n",
        "\n",
        "lm = LinearRegression()\n",
        "\n",
        "X = df[['highway-mpg']]\n",
        "Y = df[['price']]\n",
        "\n",
        "lm.fit(X, Y) #fit the model\n",
        "\n",
        "Yhat = lm.predict(X) #output is an array\n",
        "```\n",
        "\n",
        "Consierando tres variables, podríamos tener una gráfica de tres dimensiones y así so on."
      ],
      "metadata": {
        "id": "8Izmvl2hw7rr"
      }
    },
    {
      "cell_type": "markdown",
      "source": [
        "**Regression plot**\n",
        "* Relación de dos variables\n",
        "* Fuerza de correlación\n",
        "* Dirección de la relación\n",
        "\n",
        "Considerando dos dimensiones, tiene una similitud a PCA. Donde tenemos una lína principal y un scatter plot que muestra la dispersión de los datos en relación a este eje principal. Nuestro modelo no siempre puede ser lineal.\n",
        "\n",
        "\n",
        "```\n",
        "import seaborn as sns\n",
        "\n",
        "sns.residplot(df['highway-mpg'], df['price'])\n",
        "```\n",
        "\n",
        "\n",
        "**And how to create a Distribution Plot:**\n",
        "\n",
        "```\n",
        "import seaborn as sns\n",
        "\n",
        "ax1 = sns.distplot(df['price'], hist=False, color=\"r\", label=\"Actual Value\")\n",
        "\n",
        "sns.distplot(Yhat, hist=False, color=\"b\", label=\"Fitted Values\", ax=ax1)\n",
        "```\n"
      ],
      "metadata": {
        "id": "Z4Y1hRjqzKkR"
      }
    },
    {
      "cell_type": "markdown",
      "source": [
        "# Fotos de Graded Questions:\n",
        "\n",
        "Las evidencias se encuentran en esta carpeta: https://drive.google.com/drive/folders/1RK_HVd4HufspHSHHS9HwoOE1cs_rGsoU?usp=share_link"
      ],
      "metadata": {
        "id": "Z-lHmV1FvMQL"
      }
    },
    {
      "cell_type": "markdown",
      "source": [
        "# Lab 4"
      ],
      "metadata": {
        "id": "ztoXgSH_vjGE"
      }
    },
    {
      "cell_type": "markdown",
      "source": [
        "**Question #1 a):**\n",
        "\n",
        "Create a linear regression object called \"lm1\"."
      ],
      "metadata": {
        "id": "mBBXZmZL1F9g"
      }
    },
    {
      "cell_type": "code",
      "source": [
        "import pandas as pd\n",
        "import numpy as np\n",
        "import matplotlib.pyplot as plt\n",
        "from sklearn.linear_model import LinearRegression\n",
        "\n",
        "lm = LinearRegression()"
      ],
      "metadata": {
        "id": "0X8DOLik1NGb"
      },
      "execution_count": 2,
      "outputs": []
    },
    {
      "cell_type": "markdown",
      "source": [
        "**Question #1 b):**\n",
        "\n",
        "Train the model using \"engine-size\" as the independent variable and \"price\" as the dependent variable?"
      ],
      "metadata": {
        "id": "-cTuW7lr1S24"
      }
    },
    {
      "cell_type": "code",
      "source": [
        "lm.fit(df[['engine-size']], df[['price']])"
      ],
      "metadata": {
        "id": "QpVoQRyU1mm3"
      },
      "execution_count": null,
      "outputs": []
    },
    {
      "cell_type": "markdown",
      "source": [
        "**Question #1 c):**\n",
        "\n",
        "Find the slope and intercept of the model."
      ],
      "metadata": {
        "id": "saI2Nx6W1vFn"
      }
    },
    {
      "cell_type": "code",
      "source": [
        "#Slope\n",
        "lm.coef_\n",
        "\n",
        "#And intercept\n",
        "lm.intercept_"
      ],
      "metadata": {
        "id": "5j4BwsFj1y--"
      },
      "execution_count": null,
      "outputs": []
    },
    {
      "cell_type": "markdown",
      "source": [
        "**Question #1 d):**\n",
        "\n",
        "What is the equation of the predicted line? You can use x and yhat or \"engine-size\" or \"price\"."
      ],
      "metadata": {
        "id": "JuJcCmxr2BI-"
      }
    },
    {
      "cell_type": "code",
      "source": [
        "Yhat=-7963.34 + 166.86*X\n",
        "\n",
        "Price=-7963.34 + 166.86*df['engine-size']"
      ],
      "metadata": {
        "id": "mu7grsFy2KBQ"
      },
      "execution_count": null,
      "outputs": []
    },
    {
      "cell_type": "markdown",
      "source": [
        "**Question #2 a):**\n",
        "\n",
        "Create and train a Multiple Linear Regression model \"lm2\" where the response variable is \"price\", and the predictor variable is \"normalized-losses\" and \"highway-mpg\"."
      ],
      "metadata": {
        "id": "Zf77jJxj2TfA"
      }
    },
    {
      "cell_type": "code",
      "source": [
        "lm2 = LinearRegression()\n",
        "lm2.fit(df[['normalized-losses', 'highway-mpg']], df['price'])"
      ],
      "metadata": {
        "id": "ILOmEeOS2Vuj"
      },
      "execution_count": null,
      "outputs": []
    },
    {
      "cell_type": "markdown",
      "source": [
        "**Question #2 b):**\n",
        "\n",
        "Find the coefficient of the model."
      ],
      "metadata": {
        "id": "R3DuhQr-2dYq"
      }
    },
    {
      "cell_type": "code",
      "source": [
        "lm2.coef_"
      ],
      "metadata": {
        "id": "cLUp-0xd2hxB"
      },
      "execution_count": null,
      "outputs": []
    },
    {
      "cell_type": "markdown",
      "source": [
        "**Question #3:**\n",
        "\n",
        "Given the regression plots above, is \"peak-rpm\" or \"highway-mpg\" more strongly correlated with \"price\"? Use the method \".corr()\" to verify your answer.\n",
        "\n",
        "*highway-mpg tiene una correlación mayor con price*"
      ],
      "metadata": {
        "id": "OL7Ietfn2ibD"
      }
    },
    {
      "cell_type": "code",
      "source": [
        "df[[\"peak-rpm\", \"highway-mpg\", \"price\"]].corr()"
      ],
      "metadata": {
        "id": "iPXcwIfY23Ap"
      },
      "execution_count": null,
      "outputs": []
    },
    {
      "cell_type": "markdown",
      "source": [
        "**Question #4:**\n",
        "\n",
        "\n",
        "Create 11 order polynomial model with the variables x and y from above."
      ],
      "metadata": {
        "id": "ScV0Waes3Xhf"
      }
    },
    {
      "cell_type": "code",
      "source": [
        "f = np.polyfit(x, y, 11)\n",
        "p = np.poly1d(f)\n",
        "PlotPolly(p,x,y, 'Highway MPG')"
      ],
      "metadata": {
        "id": "eWdFiISq32dL"
      },
      "execution_count": null,
      "outputs": []
    },
    {
      "cell_type": "markdown",
      "source": [
        "**Question #5:**\n",
        "\n",
        "Create a pipeline that standardizes the data, then produce a prediction using a linear regression model using the features Z and target y."
      ],
      "metadata": {
        "id": "yNxoR_Ke36lp"
      }
    },
    {
      "cell_type": "code",
      "source": [
        "Input=[('scale', StandardScaler()), ('model', LinearRegression())]\n",
        "\n",
        "pipe=Pipeline(Input)\n",
        "\n",
        "pipe.fit(Z,y)\n",
        "\n",
        "ypipe=pipe.predict(Z)\n",
        "ypipe[0:10]"
      ],
      "metadata": {
        "id": "F7Wsu5LB4ASq"
      },
      "execution_count": null,
      "outputs": []
    }
  ]
}