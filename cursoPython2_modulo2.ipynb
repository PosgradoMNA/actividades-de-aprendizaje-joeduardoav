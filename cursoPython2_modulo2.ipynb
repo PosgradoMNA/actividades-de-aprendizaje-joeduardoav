{
  "nbformat": 4,
  "nbformat_minor": 0,
  "metadata": {
    "colab": {
      "provenance": []
    },
    "kernelspec": {
      "name": "python3",
      "display_name": "Python 3"
    },
    "language_info": {
      "name": "python"
    }
  },
  "cells": [
    {
      "cell_type": "markdown",
      "source": [
        "# **Module 2 - Data Wrangling**\n",
        "\n",
        "Ciencia y Analítica de Datos\n",
        "\n",
        "José Eduardo Arteaga Valdés\n",
        "\n",
        "A01273800"
      ],
      "metadata": {
        "id": "KjhvMI0BE8pU"
      }
    },
    {
      "cell_type": "markdown",
      "source": [
        "**Pre processing data or data cleaning.**\n",
        "* Identify and handle missing values\n",
        "* Data formatting\n",
        "* Data normalization\n",
        "* Data Binning (comparisson of groups of data)\n",
        "* Turning Categorical values to numerica variables"
      ],
      "metadata": {
        "id": "1-O84xJUFCQS"
      }
    },
    {
      "cell_type": "markdown",
      "source": [
        "**Missing Value**\n",
        "\n",
        "Podemos encontrarla como [?, 0, blank space, Nan]. Podemos borrar toda la variable, o borrar toda la fila. Sin embargo, es mejor reemplzar la var faltante con otro valor. Soluciones sencillas serían:\n",
        "* media o mediana\n",
        "* moda (frecuencia)\n",
        "\n",
        "**¿Cómo borramos datos?**\n",
        "```\n",
        "#dataframes.dropna()\n",
        "#encontramos todos los NaN de una columna y borramos esa fila\n",
        "\n",
        "df.dropna(subset =[\"price\"], axis=0, inplace=True)\n",
        "```\n",
        "\n",
        "O podemos usar replace:\n",
        "```\n",
        "#quitamos NaN con otra var, como promedio:\n",
        "\n",
        "mean = df[\"normalized-losses\"].mean()\n",
        "df[\"normalized-losses\"].replace(np.nan, mean)\n",
        "```\n"
      ],
      "metadata": {
        "id": "uOYd-pmeFphY"
      }
    },
    {
      "cell_type": "markdown",
      "source": [
        "**Data Formatting**\n",
        "\n",
        "Datos con diferentes formatos. Por lo que necesitamos estandarizar su formato para hacer que sea sencilla de utilizar y entender.\n",
        "* NY - New York\n",
        "* New York - New York\n",
        "* N.Y. - New York\n",
        "\n",
        "O por ejemplo, podemos tener dos fuentes de datos, una utiliza metros, y otra pies/pulgadas.\n",
        "\n",
        "**Incluso**, en ocasiones el datatype de los datos puede ser incorrecto. Un número puede ser un string o un object, en lugar de float.\n",
        "\n",
        "```\n",
        "#encontrar el tipo de datos de un df\n",
        "dataframe.dtypes()\n",
        "\n",
        "#cambiarlo\n",
        "dataframe.astype()\n",
        "\n",
        "#por ejemplo, cambiamos toda la columna de price a integer\n",
        "df[\"price\"] = df[\"price\"].astype(\"int\")\n",
        "```"
      ],
      "metadata": {
        "id": "zRQKgsi9HXLT"
      }
    },
    {
      "cell_type": "markdown",
      "source": [
        "**Data Normalization**\n",
        "\n",
        "En esta caso, podemos utilizar métodos como: Normalización min-max.\n",
        "* El valor mínimo del conjunto de datos es 0\n",
        "* El valor máximo del conjunto de datos es 1\n",
        "* Todos los demás valores viven entre el 0 y el 1\n",
        "\n",
        "Útil cuando comparamos datos de dos escalas diferentes.\n",
        "\n",
        "```\n",
        "df[\"length\"] = (df[\"length\"]-df[\"length\"].min())/\n",
        "               (df[\"length\"].max()-df[\"length\"].min())\n",
        "```\n",
        "\n",
        "**¿Por qué es importante?**\n",
        "\n",
        "En una regresión lineal, si una columna tiene valores muy grandes en comparación a otra columna, esta influenciará con mayor fuerza la predicción.\n",
        "\n",
        "Es decir, si queremos que todas las columnas (variables) de nuestra regresión tengan el mismo valor, entonces debemos normalizar.\n"
      ],
      "metadata": {
        "id": "acWmM_m5Io_H"
      }
    },
    {
      "cell_type": "markdown",
      "source": [
        "**Binning**\n",
        "\n",
        "Agrupar valores en bins. Puede mejorar la precisión de las predicciones. Y podemos entender mejor la distribución. Es como separar un range de precios en [low, medium, high].\n",
        "\n",
        "```\n",
        "#creamos 4 números que parten al arreglo en 3 pedazos\n",
        "bins = np.linspace(min(df[\"price\"]), max(df[\"price\"]), 4)\n",
        "\n",
        "#creamos los nombres de cada rango\n",
        "group_names = [\"Low\", \"Medium\", \"High\"]\n",
        "\n",
        "#usamos cut para crear la nueva columna y segmentarla según lo que definimos\n",
        "df[\"price-binned\"] = pd.cut(df[\"price\"], bons, labels=group_names, include_lowest=True)\n",
        "```"
      ],
      "metadata": {
        "id": "ycK4atugKOtw"
      }
    },
    {
      "cell_type": "markdown",
      "source": [
        "**Categorical values a -> Quantitive variables**\n",
        "\n",
        "Muchos modelos no pueden procesor strings u objects como inputs. Necesitamos números.\n",
        "\n",
        "Por ejemplo, en una base de datos de autos, necesitamos convertir el tipo de combustible a números. Por ejemplo, podemos crear dos columnas nuevas \"gasolina\" y \"diesel\". Si un auto es a gas, tendra 1 en la columna de \"gasolina\" y un 0 en \"diesel\".\n",
        "\n",
        "Esto se puede generar automáticamente con dummies en Py:\n",
        "\n",
        "```\n",
        "pd.get_dummies(df[\"fuel\"])\n",
        "\n",
        "#esto toma la columna con valores de \"gasoline\" y \"diesel\" y lo convierte en dos columnas nuevas. como descrito arriba.\n",
        "```"
      ],
      "metadata": {
        "id": "OKQp4AfmLpi2"
      }
    },
    {
      "cell_type": "markdown",
      "source": [
        "# Fotos de Graded Questions:\n",
        "\n",
        "Las evidencias se encuentran en esta carpeta: https://drive.google.com/drive/folders/1DvM_OeyD04LVPM9X35Qoa6Tu0oGbDjZd?usp=sharing"
      ],
      "metadata": {
        "id": "cQqOwc42N18_"
      }
    }
  ]
}