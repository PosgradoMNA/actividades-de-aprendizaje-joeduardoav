{
  "nbformat": 4,
  "nbformat_minor": 0,
  "metadata": {
    "colab": {
      "provenance": []
    },
    "kernelspec": {
      "name": "python3",
      "display_name": "Python 3"
    },
    "language_info": {
      "name": "python"
    }
  },
  "cells": [
    {
      "cell_type": "markdown",
      "source": [
        "# **Module 5 - Model Evaluation and Improvement**\n",
        "\n",
        "Ciencia y Analítica de Datos\n",
        "\n",
        "José Eduardo Arteaga Valdés\n",
        "\n",
        "A01273800"
      ],
      "metadata": {
        "id": "GxzJ0upEzFr5"
      }
    },
    {
      "cell_type": "markdown",
      "source": [
        "# Lab 5"
      ],
      "metadata": {
        "id": "IsR9SzypzMLP"
      }
    },
    {
      "cell_type": "markdown",
      "source": [
        "**Question #1):**\n",
        "\n",
        "Use the function \"train_test_split\" to split up the dataset such that 40% of the data samples will be utilized for testing. Set the parameter \"random_state\" equal to zero. The output of the function should be the following: \"x_train1\" , \"x_test1\", \"y_train1\" and \"y_test1\"."
      ],
      "metadata": {
        "id": "mKnsJZD0zQVK"
      }
    },
    {
      "cell_type": "code",
      "execution_count": null,
      "metadata": {
        "id": "xFFiLeRty2si"
      },
      "outputs": [],
      "source": [
        "x_train, x_test, y_train, y_test = train_test_split(x_data, y_data, test_size=0.4, random_state=0) \n",
        "print(\"Test:\", x_test.shape[0])\n",
        "print(\"Training:\", x_train.shape[0])"
      ]
    },
    {
      "cell_type": "markdown",
      "source": [
        "**Question #2):**\n",
        "\n",
        "Find the R^2 on the test data using 40% of the dataset for testing."
      ],
      "metadata": {
        "id": "UUUdqjPBzpXu"
      }
    },
    {
      "cell_type": "code",
      "source": [
        "x_train, x_test, y_train, y_test = train_test_split(x_data, y_data, test_size=0.4, random_state=0)\n",
        "linear_reg.fit(x_train[['horsepower']],y_train)\n",
        "linear_reg.score(x_test[['horsepower']],y_testv)"
      ],
      "metadata": {
        "id": "fB51WVMPzraz"
      },
      "execution_count": null,
      "outputs": []
    },
    {
      "cell_type": "markdown",
      "source": [
        "**Question #3):**\n",
        "\n",
        "Calculate the average R^2 using two folds, then find the average R^2 for the second fold utilizing the \"horsepower\" feature:"
      ],
      "metadata": {
        "id": "BkPVdNNgz7Gc"
      }
    },
    {
      "cell_type": "code",
      "source": [
        "Rc = cross_val_score(lre,x_data[['horsepower']], y_data,cv=2)\n",
        "Rc.mean()"
      ],
      "metadata": {
        "id": "Olyt-tZd0B-P"
      },
      "execution_count": null,
      "outputs": []
    },
    {
      "cell_type": "markdown",
      "source": [
        "**Question #4a):**\n",
        "\n",
        "We can perform polynomial transformations with more than one feature. Create a \"PolynomialFeatures\" object \"pr1\" of degree two."
      ],
      "metadata": {
        "id": "j1zWQ6Aj0Nbi"
      }
    },
    {
      "cell_type": "code",
      "source": [
        "poly=PolynomialFeatures(degree=2)"
      ],
      "metadata": {
        "id": "o4Glmvo90S1Y"
      },
      "execution_count": null,
      "outputs": []
    },
    {
      "cell_type": "markdown",
      "source": [
        "**Question #4b):**\n",
        "\n",
        "Transform the training and testing samples for the features 'horsepower', 'curb-weight', 'engine-size' and 'highway-mpg'. Hint: use the method \"fit_transform\"."
      ],
      "metadata": {
        "id": "wpdjotFq0WRf"
      }
    },
    {
      "cell_type": "code",
      "source": [
        "x_train_poly = poly.fit_transform(x_train[['horsepower', 'curb-weight', 'engine-size', 'highway-mpg']])\n",
        "\n",
        "x_test_poly = poly.fit_transform(x_test[['horsepower', 'curb-weight', 'engine-size', 'highway-mpg']])"
      ],
      "metadata": {
        "id": "2rsju9e30Ynv"
      },
      "execution_count": null,
      "outputs": []
    },
    {
      "cell_type": "markdown",
      "source": [
        "**Question #4c):**\n",
        "\n",
        "How many dimensions does the new feature have? Hint: use the attribute \"shape\"."
      ],
      "metadata": {
        "id": "McQgWzNZ0lE1"
      }
    },
    {
      "cell_type": "code",
      "source": [
        "x_train_poly.shape"
      ],
      "metadata": {
        "id": "H8ZFuXGd0m47"
      },
      "execution_count": null,
      "outputs": []
    },
    {
      "cell_type": "markdown",
      "source": [
        "**Question #4d):** \n",
        "\n",
        "Create a linear regression model \"poly1\". Train the object using the method \"fit\" using the polynomial features."
      ],
      "metadata": {
        "id": "4Wgi13MP0rg-"
      }
    },
    {
      "cell_type": "code",
      "source": [
        "poly = LinearRegression().fit(x_train_poly,y_train)"
      ],
      "metadata": {
        "id": "6xteeR2O0vkE"
      },
      "execution_count": null,
      "outputs": []
    },
    {
      "cell_type": "markdown",
      "source": [
        "**Question #4e):**\n",
        "\n",
        "Use the method \"predict\" to predict an output on the polynomial features, then use the function \"DistributionPlot\" to display the distribution of the predicted test output vs. the actual test data."
      ],
      "metadata": {
        "id": "DGUP_co-0300"
      }
    },
    {
      "cell_type": "code",
      "source": [
        "yhat_test = poly.predict(x_test_poly)\n",
        "\n",
        "DistributionPlot(y_test, yhat_test, \"Actual Test Data\", \"Predicted Test Output\", \"Poly comparisson\")"
      ],
      "metadata": {
        "id": "duq-Sak505vb"
      },
      "execution_count": null,
      "outputs": []
    },
    {
      "cell_type": "markdown",
      "source": [
        "**Question #4f):**\n",
        "\n",
        "Using the distribution plot above, describe (in words) the two regions where the predicted prices are less accurate than the actual prices."
      ],
      "metadata": {
        "id": "jq5Y5F6h1Uc8"
      }
    },
    {
      "cell_type": "markdown",
      "source": [
        "El valor predicho es mayor que el valor actual cuando se trata de autos con precio oscilante a los 10,000. Asimismo, el valor de la predicción es menor cuando el auto cuesta entre 30,000 y 40,000."
      ],
      "metadata": {
        "id": "7WFPr_nX1iY_"
      }
    },
    {
      "cell_type": "markdown",
      "source": [
        "**Question #5):**\n",
        "\n",
        "Perform Ridge regression. Calculate the R^2 using the polynomial features, use the training data to train the model and use the test data to test the model. The parameter alpha should be set to 10."
      ],
      "metadata": {
        "id": "8wjhK1xx1_2q"
      }
    },
    {
      "cell_type": "code",
      "source": [
        "RidgeM = Ridge(alpha=10) \n",
        "RidgeM.fit(x_train_poly, y_train)\n",
        "RidgeM.score(x_test_poly, y_test)"
      ],
      "metadata": {
        "id": "a5PJ6xZR2G1Z"
      },
      "execution_count": null,
      "outputs": []
    },
    {
      "cell_type": "markdown",
      "source": [
        "# Fotos de Graded Questions"
      ],
      "metadata": {
        "id": "LAoPmll92efj"
      }
    },
    {
      "cell_type": "markdown",
      "source": [
        "Se encuentran en este link: https://drive.google.com/drive/folders/1NTfJo8RKAAv97b2hrjsL9AJZDovV1qHp?usp=sharing"
      ],
      "metadata": {
        "id": "4ZmJADXn2i4B"
      }
    }
  ]
}