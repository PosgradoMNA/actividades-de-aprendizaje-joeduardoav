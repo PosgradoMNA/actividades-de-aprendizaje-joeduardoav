{
  "nbformat": 4,
  "nbformat_minor": 0,
  "metadata": {
    "colab": {
      "provenance": []
    },
    "kernelspec": {
      "name": "python3",
      "display_name": "Python 3"
    },
    "language_info": {
      "name": "python"
    }
  },
  "cells": [
    {
      "cell_type": "markdown",
      "source": [
        "# **Module 2 - Data Wrangling**\n",
        "\n",
        "Ciencia y Analítica de Datos\n",
        "\n",
        "José Eduardo Arteaga Valdés\n",
        "\n",
        "A01273800"
      ],
      "metadata": {
        "id": "KjhvMI0BE8pU"
      }
    },
    {
      "cell_type": "markdown",
      "source": [
        "**Pre processing data or data cleaning.**\n",
        "* Identify and handle missing values\n",
        "* Data formatting\n",
        "* Data normalization\n",
        "* Data Binning (comparisson of groups of data)\n",
        "* Turning Categorical values to numerica variables"
      ],
      "metadata": {
        "id": "1-O84xJUFCQS"
      }
    },
    {
      "cell_type": "markdown",
      "source": [
        "**Missing Value**\n",
        "\n",
        "Podemos encontrarla como [?, 0, blank space, Nan]. Podemos borrar toda la variable, o borrar toda la fila. Sin embargo, es mejor reemplzar la var faltante con otro valor. Soluciones sencillas serían:\n",
        "* media o mediana\n",
        "* moda (frecuencia)\n",
        "\n",
        "**¿Cómo borramos datos?**\n",
        "```\n",
        "#dataframes.dropna()\n",
        "#encontramos todos los NaN de una columna y borramos esa fila\n",
        "\n",
        "df.dropna(subset =[\"price\"], axis=0, inplace=True)\n",
        "```\n",
        "\n",
        "O podemos usar replace:\n",
        "```\n",
        "#quitamos NaN con otra var, como promedio:\n",
        "\n",
        "mean = df[\"normalized-losses\"].mean()\n",
        "df[\"normalized-losses\"].replace(np.nan, mean)\n",
        "```\n"
      ],
      "metadata": {
        "id": "uOYd-pmeFphY"
      }
    },
    {
      "cell_type": "markdown",
      "source": [
        "**Data Formatting**\n",
        "\n",
        "Datos con diferentes formatos. Por lo que necesitamos estandarizar su formato para hacer que sea sencilla de utilizar y entender.\n",
        "* NY - New York\n",
        "* New York - New York\n",
        "* N.Y. - New York\n",
        "\n",
        "O por ejemplo, podemos tener dos fuentes de datos, una utiliza metros, y otra pies/pulgadas.\n",
        "\n",
        "**Incluso**, en ocasiones el datatype de los datos puede ser incorrecto. Un número puede ser un string o un object, en lugar de float.\n",
        "\n",
        "```\n",
        "#encontrar el tipo de datos de un df\n",
        "dataframe.dtypes()\n",
        "\n",
        "#cambiarlo\n",
        "dataframe.astype()\n",
        "\n",
        "#por ejemplo, cambiamos toda la columna de price a integer\n",
        "df[\"price\"] = df[\"price\"].astype(\"int\")\n",
        "```"
      ],
      "metadata": {
        "id": "zRQKgsi9HXLT"
      }
    },
    {
      "cell_type": "markdown",
      "source": [
        "**Data Normalization**\n",
        "\n",
        "En esta caso, podemos utilizar métodos como: Normalización min-max.\n",
        "* El valor mínimo del conjunto de datos es 0\n",
        "* El valor máximo del conjunto de datos es 1\n",
        "* Todos los demás valores viven entre el 0 y el 1\n",
        "\n",
        "Útil cuando comparamos datos de dos escalas diferentes.\n",
        "\n",
        "```\n",
        "df[\"length\"] = (df[\"length\"]-df[\"length\"].min())/\n",
        "               (df[\"length\"].max()-df[\"length\"].min())\n",
        "```\n",
        "\n",
        "**¿Por qué es importante?**\n",
        "\n",
        "En una regresión lineal, si una columna tiene valores muy grandes en comparación a otra columna, esta influenciará con mayor fuerza la predicción.\n",
        "\n",
        "Es decir, si queremos que todas las columnas (variables) de nuestra regresión tengan el mismo valor, entonces debemos normalizar.\n"
      ],
      "metadata": {
        "id": "acWmM_m5Io_H"
      }
    },
    {
      "cell_type": "markdown",
      "source": [
        "**Binning**\n",
        "\n",
        "Agrupar valores en bins. Puede mejorar la precisión de las predicciones. Y podemos entender mejor la distribución. Es como separar un range de precios en [low, medium, high].\n",
        "\n",
        "```\n",
        "#creamos 4 números que parten al arreglo en 3 pedazos\n",
        "bins = np.linspace(min(df[\"price\"]), max(df[\"price\"]), 4)\n",
        "\n",
        "#creamos los nombres de cada rango\n",
        "group_names = [\"Low\", \"Medium\", \"High\"]\n",
        "\n",
        "#usamos cut para crear la nueva columna y segmentarla según lo que definimos\n",
        "df[\"price-binned\"] = pd.cut(df[\"price\"], bons, labels=group_names, include_lowest=True)\n",
        "```"
      ],
      "metadata": {
        "id": "ycK4atugKOtw"
      }
    },
    {
      "cell_type": "markdown",
      "source": [
        "**Categorical values a -> Quantitive variables**\n",
        "\n",
        "Muchos modelos no pueden procesor strings u objects como inputs. Necesitamos números.\n",
        "\n",
        "Por ejemplo, en una base de datos de autos, necesitamos convertir el tipo de combustible a números. Por ejemplo, podemos crear dos columnas nuevas \"gasolina\" y \"diesel\". Si un auto es a gas, tendra 1 en la columna de \"gasolina\" y un 0 en \"diesel\".\n",
        "\n",
        "Esto se puede generar automáticamente con dummies en Py:\n",
        "\n",
        "```\n",
        "pd.get_dummies(df[\"fuel\"])\n",
        "\n",
        "#esto toma la columna con valores de \"gasoline\" y \"diesel\" y lo convierte en dos columnas nuevas. como descrito arriba.\n",
        "```"
      ],
      "metadata": {
        "id": "OKQp4AfmLpi2"
      }
    },
    {
      "cell_type": "markdown",
      "source": [
        "# Fotos de Graded Questions:\n",
        "\n",
        "Las evidencias se encuentran en esta carpeta: https://drive.google.com/drive/folders/1DvM_OeyD04LVPM9X35Qoa6Tu0oGbDjZd?usp=sharing"
      ],
      "metadata": {
        "id": "cQqOwc42N18_"
      }
    },
    {
      "cell_type": "markdown",
      "source": [
        "# Lab 2\n"
      ],
      "metadata": {
        "id": "83KFGYBHaJcp"
      }
    },
    {
      "cell_type": "markdown",
      "source": [
        "**Question 1**\n",
        "\n",
        "Based on the example above, replace NaN in \"stroke\" column with the mean value."
      ],
      "metadata": {
        "id": "YrPpe7Flcpk4"
      }
    },
    {
      "cell_type": "code",
      "source": [
        "#Promedio de stroke\n",
        "promedioStroke = df[\"stroke\"].astype(\"float\").mean(axis = 0)\n",
        "\n",
        "#Reemplazo\n",
        "df[\"stroke\"].replace(np.nan, promedioStroke, inplace = True)"
      ],
      "metadata": {
        "id": "FzekrY2mc_M-"
      },
      "execution_count": null,
      "outputs": []
    },
    {
      "cell_type": "markdown",
      "source": [
        "**Question 2**\n",
        "\n",
        "According to the example above, transform mpg to L/100km in the column of \"highway-mpg\" and change the name of column to \"highway-L/100km\"."
      ],
      "metadata": {
        "id": "iS87TGxwdXkq"
      }
    },
    {
      "cell_type": "code",
      "source": [
        "#Considerando que 1 milla por galón es igual a 235.215 litros por 100 km,\n",
        "#la conversión sería:\n",
        "df[\"highway-mpg\"] = 235.215/df[\"highway-mpg\"]\n",
        "\n",
        "#Renombrar columna\n",
        "df.rename(columns = {'highway-mpg':'highway-L/100km'}, inplace = True)"
      ],
      "metadata": {
        "id": "eDBgUluIdgnH"
      },
      "execution_count": null,
      "outputs": []
    },
    {
      "cell_type": "markdown",
      "source": [
        "**Question 3**\n",
        "\n",
        "According to the example above, normalize the column \"height\"."
      ],
      "metadata": {
        "id": "_UmMgDlMeJAY"
      }
    },
    {
      "cell_type": "code",
      "source": [
        "#Considerando la fórmula [nuevo] = [antiguo]/[val. máx.],\n",
        "#la normalización sería:\n",
        "df['height'] = df['height']/df['height'].max() "
      ],
      "metadata": {
        "id": "f8cl7RxdeS9s"
      },
      "execution_count": null,
      "outputs": []
    },
    {
      "cell_type": "markdown",
      "source": [
        "**Question 4**\n",
        "\n",
        "Similar to before, create an indicator variable for the column \"aspiration\""
      ],
      "metadata": {
        "id": "E6s5i4m6fAqB"
      }
    },
    {
      "cell_type": "code",
      "source": [
        "#Indicador\n",
        "dummyVar = pd.get_dummies(df['aspiration'])"
      ],
      "metadata": {
        "id": "c3KZxKqAfJDy"
      },
      "execution_count": null,
      "outputs": []
    },
    {
      "cell_type": "markdown",
      "source": [
        "**Question 5**\n",
        "\n",
        "Merge the new dataframe to the original dataframe, then drop the column 'aspiration'."
      ],
      "metadata": {
        "id": "eMcPGFgFgKPE"
      }
    },
    {
      "cell_type": "code",
      "source": [
        "#Cambio de nombres en las columnas\n",
        "dummyVar.rename(columns={'std':'aspiration-std', 'turbo': 'aspiration-turbo'}, inplace=True)\n",
        "\n",
        "#Concatenar\n",
        "df = pd.concat([df, dummyVar], axis=1)\n",
        "\n",
        "#Eliminar columna aspiration\n",
        "df.drop('aspiration', axis = 1, inplace=True)"
      ],
      "metadata": {
        "id": "fcITxsIogUz5"
      },
      "execution_count": null,
      "outputs": []
    }
  ]
}