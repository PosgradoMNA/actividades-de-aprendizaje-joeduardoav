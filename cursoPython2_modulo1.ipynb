{
  "nbformat": 4,
  "nbformat_minor": 0,
  "metadata": {
    "colab": {
      "provenance": []
    },
    "kernelspec": {
      "name": "python3",
      "display_name": "Python 3"
    },
    "language_info": {
      "name": "python"
    }
  },
  "cells": [
    {
      "cell_type": "markdown",
      "source": [
        "# Data Analysis with Py\n",
        "**Module 1**\n",
        "\n",
        "> José Eduardo Arteaga Valdés\n",
        "A01273800"
      ],
      "metadata": {
        "id": "NF5NduBkUDGq"
      }
    },
    {
      "cell_type": "markdown",
      "source": [
        "**The Problem**\n",
        "\n",
        "Determine best price for the car."
      ],
      "metadata": {
        "id": "qCs296RnUSu4"
      }
    },
    {
      "cell_type": "markdown",
      "source": [
        "**Understanding the data**\n",
        "* What we want to predict: Target or Label (price)"
      ],
      "metadata": {
        "id": "pkAOQyeyUxx1"
      }
    },
    {
      "cell_type": "markdown",
      "source": [
        "**Python Packages for Data Science**\n",
        "* Scientific Computing Libraries\n",
        "  * Pandas (Dataframes)\n",
        "  * NumPy (Arrays & matrices)\n",
        "  * SciPy (Integrals, solving differential equations, optimization)\n",
        "* Data Visualization\n",
        "  * Matplotlib (plots & graphs)\n",
        "  * Seaborn (plots: heat maps, time series, violin plots)\n",
        "* Algorithmic\n",
        "  * Scikit-learn\n",
        "  * Statmodels\n"
      ],
      "metadata": {
        "id": "GIiL1I7VVmsT"
      }
    },
    {
      "cell_type": "markdown",
      "source": [
        "**Importing And Exporting Data**\n",
        "\n",
        "* Format\n",
        "  * various: csv, json, xlsx, hdf\n",
        "* File Path\n",
        "  * Computer: /Desktop/mydata.csv\n",
        "  * Internet: https://archiv.com/imports\n",
        "\n",
        "```\n",
        "import pandas as pd\n",
        "url = \"https://archiv.com/imports\"\n",
        "df = pd.read_csv(url)\n",
        "df = pd.read_csv(url, header = None) # si no tiene headers\n",
        "```\n",
        "Tips\n",
        "* df.head(n) para imprimir solo unas filas al principio, o df.tail(n) para las últimas filas\n",
        "* ¿Cómo le hacemos para colocar headers?\n",
        "\n",
        "```\n",
        "headers = [\"symboling\", \"make\", \"fuel\", \"aspiration\", \"doors\"]\n",
        "df.columns = headers\n",
        "```\n",
        "\n",
        "Para exportar\n",
        "\n",
        "```\n",
        "#primero defino el path, nombre de archivo incluido\n",
        "path = \"C:Windowds/.../automobile.csv\"\n",
        "\n",
        "#después lo ejecuto\n",
        "df.to_csv(path)\n",
        "```"
      ],
      "metadata": {
        "id": "rZPBvNjxWxN2"
      }
    },
    {
      "cell_type": "markdown",
      "source": [
        "**Getting Started Analyzing Data in Python**\n",
        "\n",
        "Pandas methods to always have *a la mano*\n",
        "\n",
        "* Pandas type\n",
        "  * object = string\n",
        "  * int64 = int\n",
        "  * float64 = float\n",
        "  * datetime64, timedelta(ns)\n",
        "  * siempre checar que los tipos de los datos estén correctos, con:\n",
        "\n",
        "```\n",
        "df.types\n",
        "\n",
        "#si una columna es un número, pero viene como object(string), debemos hacer el cast al dato correcto\n",
        "```\n",
        "\n",
        "También recuerda usar:\n",
        "```\n",
        "df.describe\n",
        "\n",
        "#esto nos ayuda a entender si los datos están bien o hay que corregir algo raro por ahí\n",
        "```\n"
      ],
      "metadata": {
        "id": "zmnD3Oo9YvlU"
      }
    },
    {
      "cell_type": "markdown",
      "source": [
        "# Graded Questions\n",
        "\n",
        "Al utilizar Colab, my notebook se pone muy lento cuando inserto imágenes. Pero en esta carpeta están las fotos de mis preguntas: \n",
        "https://drive.google.com/drive/folders/1DamOOAxbVSlMqUEkRP3TWEsgLgLDaqWw?usp=sharing \n"
      ],
      "metadata": {
        "id": "mjWCnR7YaqW1"
      }
    }
  ]
}