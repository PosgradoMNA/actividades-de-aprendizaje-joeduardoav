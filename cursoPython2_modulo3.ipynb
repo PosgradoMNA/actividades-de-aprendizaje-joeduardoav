{
  "nbformat": 4,
  "nbformat_minor": 0,
  "metadata": {
    "colab": {
      "provenance": []
    },
    "kernelspec": {
      "name": "python3",
      "display_name": "Python 3"
    },
    "language_info": {
      "name": "python"
    }
  },
  "cells": [
    {
      "cell_type": "markdown",
      "source": [
        "# **Exploratory Data Analysis (EDA)** \n",
        "\n",
        "* Summarize main characteristics of the data\n",
        "* Gain better understanding of the data set\n",
        "* Uncover relationships between variables\n",
        "* Extract important variables\n",
        "\n",
        "E.g. ¿Cuáles son las caracterísiticas que influyen más en el precio del auto?"
      ],
      "metadata": {
        "id": "zIrWpklAUMWm"
      }
    },
    {
      "cell_type": "markdown",
      "source": [
        "**Descriptive Statistics**\n",
        "\n",
        "Describe las características básicas de un conjunto de datos, obtiene ejemplos y measures. Se puede usar la función df.describe(). Que nos proporciona información sobre:\n",
        "* count\n",
        "* mean\n",
        "* desv. std.\n",
        "* min\n",
        "* 25% (cuartil)\n",
        "* 50% \n",
        "* 75% \n",
        "* máx\n",
        "\n",
        "___\n",
        "\n",
        "Para categorical variables se puede usar value_counts() para contar categorías de una columna. Es decir, cuando nuestra columna no es totalmente numérica.\n",
        "\n",
        "____\n",
        "\n",
        "También tenemos box plots o de bigotes. Para analizar la distribución de los datos.\n",
        "\n",
        "____\n",
        "\n",
        "Para datos continuos (como price o engine size - que están en un rango). Para ello podemos usar un Scatter Plot/Diagrama de dispersión. \n",
        "\n",
        "* Donde tenemos una variable predictora (eje de las x)\n",
        "* Y una variable target (eje de las y)."
      ],
      "metadata": {
        "id": "9tLNsFUbVAqy"
      }
    },
    {
      "cell_type": "markdown",
      "source": [
        "**Group By**\n",
        "\n",
        "Groupby() agrupa variables categóricas. Es decir, podemos agrupar las columnas por una categoría y por una sub categoría. Groupby funciona con la lógica de bases de datos (similar).\n",
        "\n",
        "Este es un extracto de código:\n",
        "\n",
        "```\n",
        "df_test = df[['drive-wheels', 'body-style', 'price']]\n",
        "\n",
        "df_grp = df_test.groupby(['drive-wheels', 'body-style'], as_index = False).mean()\n",
        "```\n",
        "\n",
        "Con el cuál agrupamos los autos por drive wheels (grupo), y después por body style (subgrupo). Y le comparamos el precio promedio.\n",
        "\n",
        "Y para hacer una visualización mucho más sencilla con una tabla tipo excel podemos usar un pivot. Con este otro extracto de código:\n",
        "\n",
        "```\n",
        "df_pivot = df_grp.pivot(index = 'drive-wheels', columns = 'body-style')\n",
        "\n",
        "#y lo transformamos en un heatmap con la línea:\n",
        "plt.pcolor(df_pivot, cmp='RdBu')\n",
        "plt.colorbar()\n",
        "plt.show()\n",
        "```"
      ],
      "metadata": {
        "id": "3edUdAzFXn96"
      }
    },
    {
      "cell_type": "markdown",
      "source": [
        "**Analysis of Variance ANOVA**\n",
        "\n",
        "Dentro de una variable categórica, ¿cuál de sus posibles valores influye más en una variable target?\n",
        "\n",
        "*Tibco. (2022). ¿Qué es Análisis de la Varianza (ANOVA)?*\n",
        "https://www.tibco.com/es/reference-center/what-is-analysis-of-variance-anova"
      ],
      "metadata": {
        "id": "QUyk_o1RaTU9"
      }
    },
    {
      "cell_type": "markdown",
      "source": [
        "**Correlation**\n",
        "\n",
        "Correlación entre dos variables. A más lluvia, más umbrellas en la calle. A más cigarros, más cáncer en los pulmones. \n",
        "\n",
        "Primero se analiza un scatter plot y una linea de regresión (que toca la mayor parte de los puntos).\n",
        "\n",
        "Podemos notar si hay una correlación positiva si tenemos una línea de regresión ascendente. O una negativa si la línea es descendente.\n",
        "\n",
        "O también podemos tener variables sin correlación."
      ],
      "metadata": {
        "id": "RdmzzlxXcDp3"
      }
    },
    {
      "cell_type": "markdown",
      "source": [
        "**Correlación - métodos de estadística**\n",
        "\n",
        "*Pearson Correlation*\n",
        "\n",
        "* Tenemos un **coeficiente de correlación**\n",
        "* Si es cerca al 1, tenemos una correlación positiva\n",
        "* Si es cerca del -1, tenemos una correlación negativa\n",
        "* Si es cerca del 0, no hay correlación\n",
        "\n",
        "Así como un **p-value**\n",
        "* p-value < 0.001 Strong certainity in the result\n",
        "* p-value < 0.05 Moderate certainity\n",
        "* p-value < 0.1 Weak certainity\n",
        "* p-value > 0.1 NO certainity\n",
        "\n",
        "Un ejemplo con código podría ser: \n",
        "\n",
        "```\n",
        "pearson_coef, p_value = stats.pearsonr(df['horsepower'], df['price'])\n",
        "\n",
        "#Si el coeficiente de correlación fuera un 0.81, sería positivo. Y si el p-value fuera minúscula, entonces habría mucha seguridad en esa predicción.\n",
        "```"
      ],
      "metadata": {
        "id": "HecX4_GFc06T"
      }
    },
    {
      "cell_type": "markdown",
      "source": [
        "___\n",
        "\n",
        "# Lab 3\n",
        "\n"
      ],
      "metadata": {
        "id": "ePtuWplleo88"
      }
    },
    {
      "cell_type": "markdown",
      "source": [
        "**Question #1**\n",
        "\n",
        "What is the data type of the column \"peak-rpm\"?"
      ],
      "metadata": {
        "id": "U7VpnAElJGFF"
      }
    },
    {
      "cell_type": "code",
      "source": [
        "df['peak-rpm'].dtypes"
      ],
      "metadata": {
        "id": "EKOo84dpJMmn"
      },
      "execution_count": null,
      "outputs": []
    },
    {
      "cell_type": "markdown",
      "source": [
        "**Question #2**\n",
        "\n",
        "Find the correlation between the following columns: bore, stroke, compression-ratio, and horsepower.\n",
        "\n",
        "Hint: if you would like to select those columns, use the following syntax: df[['bore','stroke','compression-ratio','horsepower']]"
      ],
      "metadata": {
        "id": "dRTvdlJtJhMF"
      }
    },
    {
      "cell_type": "code",
      "source": [
        "df[['bore','stroke','compression-ratio','horsepower']].corr()"
      ],
      "metadata": {
        "id": "BlEXqFS4JrVp"
      },
      "execution_count": null,
      "outputs": []
    },
    {
      "cell_type": "markdown",
      "source": [
        "**Question 3 a)**\n",
        "\n",
        "Find the correlation between x=\"stroke\" and y=\"price\".\n",
        "\n",
        "Hint: if you would like to select those columns, use the following syntax: df[[\"stroke\",\"price\"]]."
      ],
      "metadata": {
        "id": "1Jp6BcvqKlHL"
      }
    },
    {
      "cell_type": "code",
      "source": [
        "df[[\"stroke\",\"price\"]].corr()"
      ],
      "metadata": {
        "id": "kgEwJxF2KvzJ"
      },
      "execution_count": null,
      "outputs": []
    },
    {
      "cell_type": "markdown",
      "source": [
        "**Question 3 b)**\n",
        "\n",
        "Given the correlation results between \"price\" and \"stroke\", do you expect a linear relationship?\n",
        "\n",
        "Verify your results using the function \"regplot()\"."
      ],
      "metadata": {
        "id": "Do608CRAK3n7"
      }
    },
    {
      "cell_type": "code",
      "source": [
        "#No. There is a weak correlation between both variables."
      ],
      "metadata": {
        "id": "vxx_44WuLNCL"
      },
      "execution_count": null,
      "outputs": []
    },
    {
      "cell_type": "markdown",
      "source": [
        "**Question 4**\n",
        "\n",
        "Use the \"groupby\" function to find the average \"price\" of each car based on \"body-style\"."
      ],
      "metadata": {
        "id": "47_OT7HVLlvf"
      }
    },
    {
      "cell_type": "code",
      "source": [
        "df_test = df[['body-style', 'price']]\n",
        "\n",
        "df_grp = df_test.groupby(['body-style'], as_index = False).mean()"
      ],
      "metadata": {
        "id": "RNpJmBz-Lq1L"
      },
      "execution_count": null,
      "outputs": []
    },
    {
      "cell_type": "markdown",
      "source": [
        "___\n",
        "\n",
        "# Graded Questions\n",
        "\n",
        "Las capturas de pantalla de las graded questions se encuentran aquí: https://drive.google.com/drive/folders/18axA7WfuehikU3BLOzjB4r_6fR449qGf?usp=sharing "
      ],
      "metadata": {
        "id": "FGBVK4SIesKC"
      }
    }
  ]
}